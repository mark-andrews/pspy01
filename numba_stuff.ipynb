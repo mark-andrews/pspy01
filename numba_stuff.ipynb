{
 "cells": [
  {
   "cell_type": "code",
   "execution_count": 4,
   "metadata": {},
   "outputs": [],
   "source": [
    "from numba import jit\n",
    "import numpy as np\n"
   ]
  },
  {
   "cell_type": "code",
   "execution_count": 24,
   "metadata": {},
   "outputs": [],
   "source": [
    "N = 10000\n",
    "d = 3\n",
    "K = 5\n",
    "\n",
    "X = np.random.rand(N, d)\n",
    "centroids = np.random.rand(K, d)\n",
    "\n",
    "@jit(nopython=True)\n",
    "def get_distance(X, centroids):\n",
    "    \n",
    "    def euclid(x, y):\n",
    "        return np.sqrt(((x - y)**2).sum())\n",
    "    \n",
    "    distance = np.empty((N, K))\n",
    "    for i in np.arange(N):\n",
    "        for k in np.arange(K):\n",
    "            distance[i,k] = euclid(X[i], centroids[k])\n",
    "            \n",
    "    return distance"
   ]
  },
  {
   "cell_type": "code",
   "execution_count": 25,
   "metadata": {},
   "outputs": [
    {
     "name": "stdout",
     "output_type": "stream",
     "text": [
      "6.11 ms ± 43.1 µs per loop (mean ± std. dev. of 7 runs, 1 loop each)\n"
     ]
    }
   ],
   "source": [
    "%timeit get_distance(X, centroids)"
   ]
  },
  {
   "cell_type": "code",
   "execution_count": 26,
   "metadata": {},
   "outputs": [
    {
     "name": "stdout",
     "output_type": "stream",
     "text": [
      "6.12 ms ± 19.5 µs per loop (mean ± std. dev. of 7 runs, 100 loops each)\n"
     ]
    }
   ],
   "source": [
    "%timeit get_distance(X, centroids)"
   ]
  },
  {
   "cell_type": "code",
   "execution_count": 33,
   "metadata": {},
   "outputs": [
    {
     "data": {
      "text/plain": [
       "array([0.42837148, 0.72542606, 0.21448631])"
      ]
     },
     "execution_count": 33,
     "metadata": {},
     "output_type": "execute_result"
    }
   ],
   "source": [
    "X[get_distance(X, centroids).argmin(axis =1) == 0].mean(axis=0)"
   ]
  },
  {
   "cell_type": "code",
   "execution_count": 28,
   "metadata": {},
   "outputs": [
    {
     "data": {
      "text/plain": [
       "array([[0.25531349, 0.31515429, 0.74374845, 0.6194368 , 0.40572442],\n",
       "       [0.80897647, 0.79674581, 0.57740176, 0.60042316, 0.81468584],\n",
       "       [0.73067753, 1.02697652, 0.70372314, 0.7005702 , 0.96276219],\n",
       "       ...,\n",
       "       [0.4231914 , 0.31565218, 0.68928789, 0.5672938 , 0.26842062],\n",
       "       [1.13615595, 1.03720174, 0.44331882, 0.5423458 , 0.76084475],\n",
       "       [0.25129852, 0.67836731, 1.01871596, 0.89971243, 0.7875821 ]])"
      ]
     },
     "execution_count": 28,
     "metadata": {},
     "output_type": "execute_result"
    }
   ],
   "source": [
    "get_distance(X, centroids)"
   ]
  },
  {
   "cell_type": "code",
   "execution_count": null,
   "metadata": {},
   "outputs": [],
   "source": []
  }
 ],
 "metadata": {
  "kernelspec": {
   "display_name": "Python 3",
   "language": "python",
   "name": "python3"
  },
  "language_info": {
   "codemirror_mode": {
    "name": "ipython",
    "version": 3
   },
   "file_extension": ".py",
   "mimetype": "text/x-python",
   "name": "python",
   "nbconvert_exporter": "python",
   "pygments_lexer": "ipython3",
   "version": "3.7.4"
  }
 },
 "nbformat": 4,
 "nbformat_minor": 2
}
